{
  "nbformat": 4,
  "nbformat_minor": 0,
  "metadata": {
    "colab": {
      "provenance": [],
      "toc_visible": true,
      "include_colab_link": true
    },
    "kernelspec": {
      "name": "python3",
      "display_name": "Python 3"
    },
    "language_info": {
      "name": "python"
    }
  },
  "cells": [
    {
      "cell_type": "markdown",
      "metadata": {
        "id": "view-in-github",
        "colab_type": "text"
      },
      "source": [
        "<a href=\"https://colab.research.google.com/github/sraymundo15/sraymundo15/blob/master/Ideal_Gas_Propagation_of_Error_Pchem_Lab_Example.ipynb\" target=\"_parent\"><img src=\"https://colab.research.google.com/assets/colab-badge.svg\" alt=\"Open In Colab\"/></a>"
      ]
    },
    {
      "cell_type": "markdown",
      "source": [
        "# Ideal Gas - *Propagation of Error*\n",
        "\n",
        "#### ASU Online Physical Chemistry Laboratory\n",
        "\n",
        "\n",
        "*Jeff Yarger, School of Molecular Sciences, Arizona State University.*\n",
        "\n",
        "jyarger@proton.me\n"
      ],
      "metadata": {
        "id": "V0GjOHy42E_P"
      }
    },
    {
      "cell_type": "markdown",
      "source": [
        "# Introduction to Propagation of Error\n",
        "\n",
        "Error propagation is the process of determining the uncertainty in a derived quantity based on the uncertainties in the input quantities. Uncertainties can arise from various sources, such as measurement errors, rounding errors, or systematic biases. By propagating uncertainties through a calculation, we can estimate the overall uncertainty in the final result, providing a more accurate and reliable understanding of our data.\n",
        "\n",
        "Mastering error propagation is essential when working with experimental data, especially in fields such as **chemistry, biochemistry**, physics, engineering, and other experimental sciences. Let's explore how to perform error propagation using Google Colab (python, and the numpy and/or sympy library).\n",
        "\n",
        "Suppose that $x, ..., z$ are measured with uncertainties $\\delta x, ..., \\delta z$, and the measured values are used to compute a function $q(x, ..., z)$. If the uncertainties in $x, ..., z$ are independent and random, then the uncertainty in $q$ is\n",
        "\n",
        "<br>\n",
        "\\begin{equation}\n",
        "\\delta q = \\sqrt{ ( \\frac{\\partial q}{\\partial x} \\delta x  )^2 + ... + ( \\frac{\\partial q}{\\partial z} \\delta z  )^2 }\n",
        "\\end{equation}\n",
        "<br>\n",
        "\n",
        "In this equation, the term $\\partial q / \\partial x$ represents the partial derivative of $q$ with respect to $x$. If you need help calculating partial derivatives reference any general calculus book or [wikipedia](https://en.wikipedia.org/wiki/Partial_derivative).\n",
        "\n",
        "For example, let's assume your goal is to calculate the number of moles of an ideal gas, given the pressure $P \\pm \\delta P$, volume $V \\pm \\delta V$, and temperature $T \\pm \\delta T$. You would calculate the number of moles of gas as $n = \\frac{PV}{RT}$. But what about the uncertainty in the number of moles of gas?\n",
        "\n",
        "Is $\\delta n = \\delta P \\delta V/R \\delta T$?  **No, it is not!**\n",
        "\n",
        "Using the equation for error propagation (taking the partial derivative of all dependent variables) we have:\n",
        "\n",
        "<br>\n",
        "\\begin{equation}\n",
        " \\frac{\\partial q}{\\partial P} = \\frac{V}{RT}\n",
        "\\end{equation}\n",
        "<br>\n",
        "\\begin{equation}\n",
        " \\frac{\\partial q}{\\partial V} = \\frac{P}{RT}\n",
        "\\end{equation}\n",
        "<br>\n",
        "\\begin{equation}\n",
        " \\frac{\\partial q}{\\partial T} = -\\frac{PV}{RT^2}\n",
        "\\end{equation}\n",
        "<br>\n",
        "<br>\n",
        "\n",
        "so,\n",
        "\\begin{equation}\n",
        "\\delta \\rho = \\sqrt{( \\frac{V}{RT} \\delta P )^2  + ( \\frac{P}{RT} \\delta V )^2 + ( -\\frac{PV}{RT^2} \\delta T  )^2}\n",
        "\\end{equation}\n",
        "<br>\n",
        "\n",
        "If we assume lab [STP](https://en.wikipedia.org/wiki/Standard_temperature_and_pressure) conditions of 1 atm and 25C, with a volume that would be common, like 1 L, we can easily use the idea gas law to determine the number of moles of gas.  This is something all students that have taken introductory chemistry will probably remember doing.  What we want to do here is further consider the uncertainty given that there is inherent uncertainty in the T, P and V. So, lets take reasonable uncertainties of 0.01 atm, 0.5 C and 1 mL (estimated measured uncertainties).  This would be reported as P = (1.00 $\\pm$ 0.01) atm, V = (1000.0 $\\pm$ 1.0) mL, and T = (25.0 $\\pm$ 0.5) $^o$C.  So, what is the calculated number of moles of gas and *importantly the correct uncertainty* that should be reported?\n"
      ],
      "metadata": {
        "id": "OIZPgIXt4OL0"
      }
    },
    {
      "cell_type": "markdown",
      "source": [
        "# Python Code for Propagation of Error"
      ],
      "metadata": {
        "id": "Y5s3TmdUMbHT"
      }
    },
    {
      "cell_type": "code",
      "source": [
        "# Load numpy and sympy libraries\n",
        "import numpy as np\n",
        "import sympy as sp\n",
        "\n",
        "# Uncomment the two lines below if you want to also load scipy.stats and matplotlib python libraries for advanced statistics and plotting.\n",
        "import scipy.stats as scs\n",
        "import matplotlib.pyplot as plt"
      ],
      "metadata": {
        "id": "KsDjeXQXMhzJ"
      },
      "execution_count": 1,
      "outputs": []
    },
    {
      "cell_type": "markdown",
      "source": [
        "## Start with a Quick Density Example\n",
        "\n",
        "From Canvas' Data and Error Analysis Review Quiz - Ethanol"
      ],
      "metadata": {
        "id": "eJol8zsmaN3g"
      }
    },
    {
      "cell_type": "code",
      "source": [
        "m, dm = sp.symbols('m dm')\n",
        "v, dv = sp.symbols('v dv')\n",
        "\n",
        "d = m/v\n",
        "dd = sp.sqrt((sp.diff(d, m) * dm)**2 + (sp.diff(d, v) * dv)**2)\n",
        "\n",
        "d_value = d.subs({m: 0.8, v: 1.0})\n",
        "dd_value = dd.subs({m: 0.8, dm: 0.1, v: 1.0, dv: 0.1})\n",
        "\n",
        "print(\"Density (g/mL):\", d_value)\n",
        "print(\"Uncertainty in density (g/mL):\", dd_value)"
      ],
      "metadata": {
        "colab": {
          "base_uri": "https://localhost:8080/"
        },
        "id": "SMaddoFYUzyD",
        "outputId": "e3aa6461-0fbd-458b-b3b4-ddef9b3f5034"
      },
      "execution_count": 3,
      "outputs": [
        {
          "output_type": "stream",
          "name": "stdout",
          "text": [
            "Density (g/mL): 0.800000000000000\n",
            "Uncertainty in density (g/mL): 0.128062484748657\n"
          ]
        }
      ]
    },
    {
      "cell_type": "markdown",
      "source": [
        "So, 0.8 $\\pm$ 0.1 g/mL, exactly the same as shown in Data and Error Analysis Review Quiz - Ethanol.  Now that we have gotten the basics of sympy using an example we knew the answer for, lets move on to propagation of error for an ideal gas."
      ],
      "metadata": {
        "id": "hI6NrCXJgWvG"
      }
    },
    {
      "cell_type": "markdown",
      "source": [
        "## Ideal Gas - Propagation of Error\n",
        "\n",
        "Lets set this up with Sympy and use example measured values of P = (0.99 $\\pm$ 0.01) atm, V = (100.0 $\\pm$ 1.0) mL, and T = (25.0 $\\pm$ 1.0) $^o$C, to calculate the number of moles of gas (in millimoles, mmol) and *importantly the uncertainty in the number of moles of gas* (in units of mmol)."
      ],
      "metadata": {
        "id": "UWorTUQWbTnw"
      }
    },
    {
      "cell_type": "code",
      "source": [
        "# Define R in terms of L⋅atm⋅K−1⋅mol−1 - 0.08205736608096 - Wikipedia\n",
        "R = 0.08205736608096\n",
        "# Sympy defining P, V, T and derivatives, dP, dV, dT.\n",
        "P, dP = sp.symbols('P dP')\n",
        "V, dV = sp.symbols('V dV')\n",
        "T, dT = sp.symbols('T dT')\n",
        "# Ideal Gas Equation - Relationship between P, V, T. - N(PVT)\n",
        "N = (P*V)/(R*T)\n",
        "# How N changes - dN - partial derivative of P, V, T\n",
        "dN = sp.sqrt((sp.diff(N, P) * dP)**2 + (sp.diff(N, V) * dV)**2 + (sp.diff(N, T) * dT)**2)\n",
        "\n",
        "# Use values of L, atm, and K... to match R units.\n",
        "N_value = N.subs({P: 0.99, V: 0.1, T: 298.15})\n",
        "dN_value = dN.subs({P: 0.99, dP: 0.01, V: 0.1, dV: 0.001, T: 298.15, dT: 1.00})\n",
        "# Display values of N and change (dN_value) for specific values given in subs({})\n",
        "print(\"Number of Moles:\", N_value)\n",
        "print(\"Uncertainty in Number of Moles\", dN_value)"
      ],
      "metadata": {
        "colab": {
          "base_uri": "https://localhost:8080/"
        },
        "id": "Fp-3cAwOW3ky",
        "outputId": "074cfbcc-53cf-4eea-c3fd-6cacc6e1e8d9"
      },
      "execution_count": 4,
      "outputs": [
        {
          "output_type": "stream",
          "name": "stdout",
          "text": [
            "Number of Moles: 0.00404653040783402\n",
            "Uncertainty in Number of Moles 5.90959478204444e-5\n"
          ]
        }
      ]
    },
    {
      "cell_type": "markdown",
      "source": [
        "So, 4.04 $\\pm$ 0.06 mmol of ideal gas under conditions of P = (0.99 $\\pm$ 0.01) atm, V = (0.1 $\\pm$ 0.001) L, and T = (298.15 $\\pm$ 1.00) K."
      ],
      "metadata": {
        "id": "F2VyFljRajQQ"
      }
    },
    {
      "cell_type": "markdown",
      "source": [
        "# References\n",
        "\n",
        "\n",
        "\n",
        "1.   Andrea Bocchieri, [Error Propagation with Sympy: A Comprehensive Guide for Python Users.](https://andreabocchieri.com/2023-04-13-error-propagation-with-sympy/)\n",
        "2.   Jeff Yarger, [Error Analysis Review](https://biopchem.education/wp-content/uploads/2021/08/error_analysis_review.pdf), biopchem.education.\n",
        "\n"
      ],
      "metadata": {
        "id": "K2TclDmtDL2R"
      }
    }
  ]
}